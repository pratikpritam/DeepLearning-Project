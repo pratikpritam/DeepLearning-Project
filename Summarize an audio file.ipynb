{
 "cells": [
  {
   "cell_type": "markdown",
   "id": "47462cb6-45b8-4fa1-80dd-4d3421d4c086",
   "metadata": {},
   "source": [
    "## L2_Summarize_an_audio_file"
   ]
  },
  {
   "cell_type": "raw",
   "id": "16237dff-56fc-4317-85d9-433887724e40",
   "metadata": {},
   "source": [
    "Import all needed packages"
   ]
  },
  {
   "cell_type": "code",
   "execution_count": 1,
   "id": "c942d650-70c3-4e70-a84d-53673698dfc8",
   "metadata": {},
   "outputs": [],
   "source": [
    "import os\n",
    "from IPython.display import Audio\n",
    "import boto3\n",
    "import uuid\n",
    "import time\n",
    "import json\n",
    "from jinja2 import Template"
   ]
  },
  {
   "cell_type": "markdown",
   "id": "fc8e6bc7-ed72-483f-ae04-70fc0d6a4ecb",
   "metadata": {},
   "source": [
    "#### Let's start with transcribing an audio file"
   ]
  },
  {
   "cell_type": "code",
   "execution_count": null,
   "id": "8e28bb3a-afb2-4fed-9064-dfa9dc21a47a",
   "metadata": {},
   "outputs": [],
   "source": [
    "audio = Audio(filename=\"Amex_dialog.mp3\")\n",
    "display(audio)"
   ]
  },
  {
   "cell_type": "code",
   "execution_count": null,
   "id": "e1fae6d3-ee9b-4f32-adfa-06bb282f381b",
   "metadata": {},
   "outputs": [],
   "source": [
    "s3_client = boto3.client('s3', region_name='ap-south-1')"
   ]
  },
  {
   "cell_type": "code",
   "execution_count": null,
   "id": "f9fbe8a3-4b55-4cf7-97b8-2bdc082c573d",
   "metadata": {},
   "outputs": [],
   "source": [
    "bucket_name = os.environ['BucketName']\n",
    "bucket_key = 'input_data/' + file_name\n",
    "file_name = 'Amex_dialog.mp3'\n"
   ]
  },
  {
   "cell_type": "code",
   "execution_count": null,
   "id": "3246db3e-920e-4c7b-9534-e907ed4ddd91",
   "metadata": {},
   "outputs": [],
   "source": [
    "s3_client.upload_file(file_name, bucket_name, bucket_key)"
   ]
  },
  {
   "cell_type": "code",
   "execution_count": null,
   "id": "c27e3e0a-1761-4b23-a057-a2127189d437",
   "metadata": {},
   "outputs": [],
   "source": [
    "transcribe_client = boto3.client('transcribe', region_name='ap-south-1')"
   ]
  },
  {
   "cell_type": "code",
   "execution_count": null,
   "id": "eb89b33d-682b-466d-b015-eae9859c5095",
   "metadata": {},
   "outputs": [],
   "source": [
    "job_name = 'transcription-job-' + str(uuid.uuid4())"
   ]
  },
  {
   "cell_type": "code",
   "execution_count": null,
   "id": "42c3f79c-84bb-4226-97f7-faad3a86f16d",
   "metadata": {},
   "outputs": [],
   "source": [
    "job_name"
   ]
  },
  {
   "cell_type": "code",
   "execution_count": null,
   "id": "c0dd5d0f-1dba-4d73-b27e-ae7e7abb8899",
   "metadata": {},
   "outputs": [],
   "source": [
    "response = transcribe_client.start_transcription_job(\n",
    "    TranscriptionJobName=job_name,\n",
    "    Media={'MediaFileUri': f's3://{bucket_name}/{bucket_key}'},\n",
    "    MediaFormat='mp3',\n",
    "    LanguageCode='en-US',\n",
    "    OutputBucketName=bucket_name,\n",
    "    Settings={\n",
    "        'ShowSpeakerLabels': True,\n",
    "        'MaxSpeakerLabels': 2\n",
    "    }\n",
    ")"
   ]
  },
  {
   "cell_type": "code",
   "execution_count": null,
   "id": "9027be95-7dc3-4f29-b49e-723a01131e72",
   "metadata": {},
   "outputs": [],
   "source": [
    "while True:\n",
    "    status = transcribe_client.get_transcription_job(TranscriptionJobName=job_name)\n",
    "    if status['TranscriptionJob']['TranscriptionJobStatus'] in ['COMPLETED', 'FAILED']:\n",
    "        break\n",
    "    time.sleep(2)\n",
    "print(status['TranscriptionJob']['TranscriptionJobStatus'])"
   ]
  },
  {
   "cell_type": "code",
   "execution_count": null,
   "id": "15858120-9c1c-4632-9bb1-78b83d9ef91a",
   "metadata": {},
   "outputs": [],
   "source": [
    "if status['TranscriptionJob']['TranscriptionJobStatus'] == 'COMPLETED':\n",
    "    \n",
    "    # Load the transcript from S3.\n",
    "    transcript_key = f\"{job_name}.json\"\n",
    "    transcript_obj = s3_client.get_object(Bucket=bucket_name, Key=transcript_key)\n",
    "    transcript_text = transcript_obj['Body'].read().decode('utf-8')\n",
    "    transcript_json = json.loads(transcript_text)\n",
    "    \n",
    "    output_text = \"\"\n",
    "    current_speaker = None\n",
    "    \n",
    "    items = transcript_json['results']['items']\n",
    "    \n",
    "    for item in items:\n",
    "        \n",
    "        speaker_label = item.get('speaker_label', None)\n",
    "        content = item['alternatives'][0]['content']\n",
    "        \n",
    "        # Start the line with the speaker label:\n",
    "        if speaker_label is not None and speaker_label != current_speaker:\n",
    "            current_speaker = speaker_label\n",
    "            output_text += f\"\\n{current_speaker}: \"\n",
    "            \n",
    "        # Add the speech content:\n",
    "        if item['type'] == 'punctuation':\n",
    "            output_text = output_text.rstrip()\n",
    "            \n",
    "        output_text += f\"{content} \"\n",
    "        \n",
    "    # Save the transcript to a text file\n",
    "    with open(f'{job_name}.txt', 'w') as f:\n",
    "        f.write(output_text)"
   ]
  },
  {
   "cell_type": "markdown",
   "id": "8e373d56-de6e-42c4-abf4-79ae72addbc3",
   "metadata": {},
   "source": [
    "#### Now, let's use an LLM"
   ]
  },
  {
   "cell_type": "code",
   "execution_count": null,
   "id": "fec6f3ca-0420-4316-97f6-f805b4ae16d3",
   "metadata": {},
   "outputs": [],
   "source": [
    "bedrock_runtime = boto3.client('bedrock-runtime', region_name='ap-south-1')"
   ]
  },
  {
   "cell_type": "code",
   "execution_count": null,
   "id": "b0df0201-ecb6-49db-93a7-560cb54b379d",
   "metadata": {},
   "outputs": [],
   "source": [
    "with open(f'{job_name}.txt', \"r\") as file:\n",
    "    transcript = file.read()"
   ]
  },
  {
   "cell_type": "code",
   "execution_count": null,
   "id": "14cd6280-e266-42c6-8e9c-d47c66732c3c",
   "metadata": {},
   "outputs": [],
   "source": [
    "%%writefile prompt_template.txt\n",
    "I need to summarize a conversation. The transcript of the \n",
    "conversation is between the <data> XML like tags.\n",
    "\n",
    "<data>\n",
    "{{transcript}}\n",
    "</data>\n",
    "\n",
    "The summary must contain a one word sentiment analysis, and \n",
    "a list of issues, problems or causes of friction\n",
    "during the conversation. The output must be provided in \n",
    "JSON format shown in the following example. \n",
    "\n",
    "Example output:\n",
    "{\n",
    "    \"sentiment\": <sentiment>,\n",
    "    \"issues\": [\n",
    "        {\n",
    "            \"topic\": <topic>,\n",
    "            \"summary\": <issue_summary>,\n",
    "        }\n",
    "    ]\n",
    "}\n",
    "\n",
    "Write the JSON output and nothing more.\n",
    "\n",
    "Here is the JSON output:\n"
   ]
  },
  {
   "cell_type": "code",
   "execution_count": null,
   "id": "66c7d796-0712-4e2c-a609-4d1589980462",
   "metadata": {},
   "outputs": [],
   "source": [
    "with open('prompt_template.txt', \"r\") as file:\n",
    "    template_string = file.read()"
   ]
  },
  {
   "cell_type": "code",
   "execution_count": null,
   "id": "ba706130-7dd0-42cf-8471-e9397371429b",
   "metadata": {},
   "outputs": [],
   "source": [
    "data = {\n",
    "    'transcript' : transcript\n",
    "}"
   ]
  },
  {
   "cell_type": "code",
   "execution_count": null,
   "id": "f57893ef-c400-472d-9a6b-fef8df0b9efc",
   "metadata": {},
   "outputs": [],
   "source": [
    "template = Template(template_string)"
   ]
  },
  {
   "cell_type": "code",
   "execution_count": null,
   "id": "cde51889-c833-4ecf-8561-e89c0b29f67d",
   "metadata": {},
   "outputs": [],
   "source": [
    "prompt = template.render(data)"
   ]
  },
  {
   "cell_type": "code",
   "execution_count": null,
   "id": "1cb41533-d0f5-4203-ae5d-52f9dd357e91",
   "metadata": {},
   "outputs": [],
   "source": [
    "print(prompt)"
   ]
  },
  {
   "cell_type": "code",
   "execution_count": null,
   "id": "88c32721-e59f-4e78-abe6-9b6c55af53fb",
   "metadata": {},
   "outputs": [],
   "source": [
    "kwargs = {\n",
    "    \"modelId\": \"amazon.titan-text-express-v1\",\n",
    "    \"contentType\": \"application/json\",\n",
    "    \"accept\": \"*/*\",\n",
    "    \"body\": json.dumps(\n",
    "        {\n",
    "            \"inputText\": prompt,\n",
    "            \"textGenerationConfig\": {\n",
    "                \"maxTokenCount\": 512,\n",
    "                \"temperature\": 0,\n",
    "                \"topP\": 0.9\n",
    "            }\n",
    "        }\n",
    "    )\n",
    "}"
   ]
  },
  {
   "cell_type": "code",
   "execution_count": null,
   "id": "7a9bb639-5c97-4d98-9522-39ed0af5b560",
   "metadata": {},
   "outputs": [],
   "source": [
    "response = bedrock_runtime.invoke_model(**kwargs)"
   ]
  },
  {
   "cell_type": "code",
   "execution_count": null,
   "id": "79a4ee8c-3e46-41ee-9408-ac8bcf273f2f",
   "metadata": {},
   "outputs": [],
   "source": [
    "response_body = json.loads(response.get('body').read())\n",
    "generation = response_body['results'][0]['outputText']"
   ]
  },
  {
   "cell_type": "code",
   "execution_count": null,
   "id": "46df25cd-6601-4bdc-8deb-146ac2ca9e6d",
   "metadata": {},
   "outputs": [],
   "source": [
    "print(generation)"
   ]
  },
  {
   "cell_type": "code",
   "execution_count": null,
   "id": "0fc97f7a-5708-4c87-a3cb-8b1cddf22368",
   "metadata": {},
   "outputs": [],
   "source": []
  },
  {
   "cell_type": "code",
   "execution_count": null,
   "id": "dea55ae3-aeda-4f44-944e-1bb0c9c5cfc6",
   "metadata": {},
   "outputs": [],
   "source": []
  }
 ],
 "metadata": {
  "kernelspec": {
   "display_name": "Python 3 (ipykernel)",
   "language": "python",
   "name": "python3"
  },
  "language_info": {
   "codemirror_mode": {
    "name": "ipython",
    "version": 3
   },
   "file_extension": ".py",
   "mimetype": "text/x-python",
   "name": "python",
   "nbconvert_exporter": "python",
   "pygments_lexer": "ipython3",
   "version": "3.11.5"
  }
 },
 "nbformat": 4,
 "nbformat_minor": 5
}
