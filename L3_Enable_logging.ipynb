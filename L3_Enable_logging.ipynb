{
 "cells": [
  {
   "cell_type": "markdown",
   "id": "5da37441-824e-4d58-a995-3df67497c70d",
   "metadata": {},
   "source": [
    "# Lesson 3: Enable Logging"
   ]
  },
  {
   "cell_type": "markdown",
   "id": "34c49a9e-ae51-45f9-9fbd-96e7a34d893c",
   "metadata": {},
   "source": [
    "#### Import all needed packages"
   ]
  },
  {
   "cell_type": "code",
   "execution_count": null,
   "id": "f663ff7a-c711-4929-a3f2-838ac8cddc67",
   "metadata": {},
   "outputs": [],
   "source": [
    "import boto3\n",
    "import json\n",
    "import os"
   ]
  },
  {
   "cell_type": "code",
   "execution_count": null,
   "id": "01f91f6f-666f-424e-8101-ef8c3e41f266",
   "metadata": {},
   "outputs": [],
   "source": [
    "# Creating Amazon Bedrock Client\n",
    "# Note- Not Bedrock_Runtime_client\n",
    "\n",
    "bedrock_client = boto3.client('bedrock', region_name=\"us-east-1\")"
   ]
  },
  {
   "cell_type": "code",
   "execution_count": null,
   "id": "a7e6bcc8-70cd-44a4-85e2-9e26bc4686cf",
   "metadata": {},
   "outputs": [],
   "source": [
    "# Choose \"CloudWatchHelper\" as a service bcz Cloudwatch is used to gets Logs into AWS Services\n",
    "\n",
    "from helpers.CloudWatchHelper import CloudWatch_Helper\n",
    "cloudwatch = CloudWatch_Helper()"
   ]
  },
  {
   "cell_type": "code",
   "execution_count": null,
   "id": "b36304fc-b027-4f2b-9d92-e53d61f9e0b3",
   "metadata": {},
   "outputs": [],
   "source": [
    "#Create a Log-Groups and select where we want to save our Log files\n",
    "#Before that Plz Check ur IAM Policy that aloows to Action: \"CreateLogStream\" and \"PutLogEvents\"\n",
    "log_group_name = '/mera/amazon/bedrock/logs'\n",
    "cloudwatch.create_log_group(log_group_name)   #call here CloudWatch_Helper function"
   ]
  },
  {
   "cell_type": "markdown",
   "id": "63e5f918-bd73-45e0-8e4f-282757d6cfd9",
   "metadata": {},
   "source": [
    "Lets Configure Amazon Bedrock to send those Cloudwatch Logs ------>"
   ]
  },
  {
   "cell_type": "code",
   "execution_count": null,
   "id": "6079af1d-b1cd-4657-9ab5-49451a9edc13",
   "metadata": {},
   "outputs": [],
   "source": [
    "# Create a dict of parameters\n",
    "\n",
    "mera_loggingConfig = {\n",
    "    'cloudWatchConfig': {\n",
    "        'logGroupName': log_group_name,\n",
    "        'roleArn': os.environ['mera_LOGGINGROLEARN'],\n",
    "        #Let's handel the large logs generations, so need to give here ana s3 output Location for lager Log files/Image/Text. ect\n",
    "        'largeDataDeliveryS3Config': {\n",
    "            'bucketName': os.environ['mera_LOGGINGBUCKETNAME'],\n",
    "            'keyPrefix': 'amazon_bedrock_large_data_delivery',\n",
    "        }\n",
    "    },\n",
    "    #Since, we handeled Large logs, lets store anything output in S3 bucket thats different from Logs, that might be any other file/text/image gereted by LLM Models\n",
    "    's3Config': {\n",
    "        'bucketName': os.environ['mera_LOGGINGBUCKETNAME'],\n",
    "        'keyPrefix': 'amazon_bedrock_logs',\n",
    "    },\n",
    "    'textDataDeliveryEnabled': True,  #bcz here particularly, Mai text data hi manage kr rha hu\n",
    "}"
   ]
  },
  {
   "cell_type": "code",
   "execution_count": null,
   "id": "4a4e462c-7af4-4c74-a479-94f3d96bdc03",
   "metadata": {},
   "outputs": [],
   "source": [
    "bedrock_client.put_model_invocation_logging_configuration(loggingConfig=mera_loggingConfig)"
   ]
  },
  {
   "cell_type": "code",
   "execution_count": null,
   "id": "66346d21-9435-4515-9a29-4a7771d973ba",
   "metadata": {},
   "outputs": [],
   "source": [
    "bedrock_client.get_model_invocation_logging_configuration()"
   ]
  },
  {
   "cell_type": "code",
   "execution_count": null,
   "id": "57a31586-6ed8-47d3-8dbf-992770329d3e",
   "metadata": {},
   "outputs": [],
   "source": [
    "bedrock_runtime_client = boto3.client('bedrock-runtime', region_name=\"us-east-1\")"
   ]
  },
  {
   "cell_type": "code",
   "execution_count": null,
   "id": "2cba7b70-6a29-450b-8963-bcfb93655c8c",
   "metadata": {},
   "outputs": [],
   "source": [
    "prompt = \"Write an crisp article about the Indian Parliamentary Model and why its better than other Nations.\"\n",
    "\n",
    "kwargs = {\n",
    "    \"modelId\": \"amazon.titan-text-express-v1\",\n",
    "    \"contentType\": \"application/json\",\n",
    "    \"accept\": \"*/*\",\n",
    "    \"body\": json.dumps(\n",
    "        {\n",
    "            \"inputText\": prompt,\n",
    "            \"textGenerationConfig\": {\n",
    "                \"maxTokenCount\": 512,\n",
    "                \"temperature\": 0.7,\n",
    "                \"topP\": 0.9\n",
    "            }\n",
    "        }\n",
    "    )\n",
    "}\n",
    "\n",
    "#Fine tune ur prompt and change Temp and topP.. and play around it."
   ]
  },
  {
   "cell_type": "code",
   "execution_count": null,
   "id": "af48b3cb-0f60-4103-a2de-719348204300",
   "metadata": {},
   "outputs": [],
   "source": [
    "response = bedrock_runtime_client.invoke_model(**kwargs)\n",
    "response_body = json.loads(response.get('body').read())\n",
    "\n",
    "generation = response_body['results'][0]['outputText']\n",
    "\n",
    "print(generation)"
   ]
  },
  {
   "cell_type": "code",
   "execution_count": null,
   "id": "c2ea04b4-8f39-40fe-b2bd-5013ef38133a",
   "metadata": {},
   "outputs": [],
   "source": [
    "# Let's pull up all logs of recent and print\n",
    "\n",
    "cloudwatch.print_recent_logs(log_group_name)"
   ]
  },
  {
   "cell_type": "markdown",
   "id": "4852386a-e46f-4898-ab79-db9d425a95cf",
   "metadata": {},
   "source": [
    "U can further re-verify into Console >> CloudWatch >> Log Groups(Left Navigation bar) >> Bedrock Logs >> Log Streams >> particular Log"
   ]
  },
  {
   "cell_type": "raw",
   "id": "38d356f8-e2fc-4fea-a1ac-6e5f657c5c76",
   "metadata": {},
   "source": [
    "To review the logs within the AWS console, please use the following link to reference the steps outlined in the video:"
   ]
  },
  {
   "cell_type": "code",
   "execution_count": null,
   "id": "41c6dc8c-0300-4c2a-b975-dd4725b00d7c",
   "metadata": {},
   "outputs": [],
   "source": [
    "# from IPython.display import HTML\n",
    "# aws_url = os.environ['AWS_CONSOLE_URL']"
   ]
  },
  {
   "cell_type": "code",
   "execution_count": null,
   "id": "a3998572-a293-42f3-b53c-69921138545a",
   "metadata": {},
   "outputs": [],
   "source": [
    "# HTML(f'<a href=\"{aws_url}\" target=\"_blank\">GO TO AWS CONSOLE</a>')\n"
   ]
  },
  {
   "cell_type": "markdown",
   "id": "5dc38f80-c34d-490f-931c-3ae0baee6fe3",
   "metadata": {},
   "source": [
    "END"
   ]
  },
  {
   "cell_type": "code",
   "execution_count": null,
   "id": "664db509-ef2e-47d8-8a25-f626b307efaf",
   "metadata": {},
   "outputs": [],
   "source": []
  }
 ],
 "metadata": {
  "kernelspec": {
   "display_name": "Python 3 (ipykernel)",
   "language": "python",
   "name": "python3"
  },
  "language_info": {
   "codemirror_mode": {
    "name": "ipython",
    "version": 3
   },
   "file_extension": ".py",
   "mimetype": "text/x-python",
   "name": "python",
   "nbconvert_exporter": "python",
   "pygments_lexer": "ipython3",
   "version": "3.11.5"
  }
 },
 "nbformat": 4,
 "nbformat_minor": 5
}
